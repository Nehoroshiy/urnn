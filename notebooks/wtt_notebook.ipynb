{
 "cells": [
  {
   "cell_type": "code",
   "execution_count": 1,
   "metadata": {},
   "outputs": [
    {
     "name": "stderr",
     "output_type": "stream",
     "text": [
      "WARNING (theano.configdefaults): Only clang++ is supported. With g++, we end up with strange g++/OSX bugs.\n",
      "WARNING:theano.configdefaults:Only clang++ is supported. With g++, we end up with strange g++/OSX bugs.\n"
     ]
    }
   ],
   "source": [
    "import theano\n",
    "import numpy as np\n",
    "import scipy as sp\n",
    "\n",
    "from numpy import linalg as la, random as rnd\n",
    "\n",
    "from theano import tensor"
   ]
  },
  {
   "cell_type": "code",
   "execution_count": 2,
   "metadata": {},
   "outputs": [],
   "source": [
    "class WTT:\n",
    "    def __init__(self, nd, ranks):\n",
    "        self.compute_shapes(nd, ranks)\n",
    "    \n",
    "    def compute_shapes(self, nd, ranks):\n",
    "        narr = np.array(n, dtype='int')\n",
    "        nranks= np.array([1] + ranks, dtype='int')\n",
    "        prods = narr * nranks\n",
    "        shapes = [(prod, prod) for prod in prods]\n",
    "        return shapes\n",
    "    \n",
    "    def wtt_image()\n",
    "\n",
    "    def wtt_tensor_image(x, cores, n, ranks, rec_dep=0, mode=\"numeric\", verbose=False):\n",
    "        rd = '\\t'*rec_dep\n",
    "        if verbose:\n",
    "            print('{}Insided rec step {}:'.format(rd, rec_dep))\n",
    "            print('{}x shape is {}'.format(rd, x.shape))\n",
    "        xk = x\n",
    "        # SOOOOOOOQA\n",
    "        #r0 = int(x.size / np.prod(n))\n",
    "        r0 = 1\n",
    "\n",
    "        k = rec_dep\n",
    "\n",
    "        if k == len(n) - 1:\n",
    "            if verbose:\n",
    "                print('{}output of last iteration. Its shape = {}'.format(rd, complex_dot(hconj(cores[-1]), x).shape))\n",
    "            print('core {}: {}'.format(k, cores[k].get_value().shape))\n",
    "            return complex_dot(hconj(cores[-1]), x)\n",
    "        rk = ranks[k]\n",
    "        rkm1 = r0 if k == 0 else ranks[k-1]\n",
    "        nk = n[k]\n",
    "        xk = tensor.reshape(x, (2, rkm1 * nk, -1))\n",
    "        if verbose:\n",
    "            print('{}after first reshape with r[k-1]={} and nd[k]={} xk.shape = {}'.format(rd, rkm1, nk, xk.shape))\n",
    "        print('core {}: {}'.format(k, cores[k].get_value().shape))\n",
    "        xk = complex_dot(hconj(cores[k]), xk)\n",
    "        if verbose:\n",
    "            print('{}after dot with conj transposed cores[k] xk.shape = {}'.format(rd, xk.shape))\n",
    "        xk1 = xk[:, :rk, :]\n",
    "        if verbose:\n",
    "            print('{}after retrieve first r[k]={} rows from xk: xk1.shape = {}'.format(rd, rk, xk1.shape))\n",
    "        zk1 = xk[:, rk:rkm1 * nk, :]\n",
    "        if verbose:\n",
    "            print('{}after retrieve next rows from k: xk1.shape = {}'.format(rd, rk, xk1.shape))\n",
    "        xk1 = tensor.reshape(xk1, (2, -1))\n",
    "        if verbose:\n",
    "            print('{}after reshape xk1 to ravel: xk1.shape = {}'.format(rd, xk1.shape))\n",
    "            print('{}'.format((rd + '-'*40 + '\\n') * 1))\n",
    "            print('{}Leap into next recursive step'.format(rd))\n",
    "        yk1 = comp_wtt_image(xk1, cores, n, ranks, rec_dep=rec_dep + 1, verbose=verbose)\n",
    "        if verbose:\n",
    "            print('{}Leap from next recursive step'.format(rd))\n",
    "            print('{}'.format((rd + '-'*40 + '\\n') * 1))\n",
    "            print('{} result of next rec step shape: yk1.shape = {}'.format(rd, yk1.shape))\n",
    "        yk1 = tensor.reshape(yk1, (2, rk, -1))\n",
    "        if verbose:\n",
    "            print('{}after reshape yk1 to ravel: yk1.shape = {}'.format(rd, yk1.shape))\n",
    "        yk = tensor.concatenate([yk1, zk1], axis=1)\n",
    "        if verbose:\n",
    "            print('{}after concat yk1 and zk1: yk1 = {}, zk1 = {}, [yk1, zk1] = {}'.format(rd, yk1.shape, zk1.shape, yk.shape))\n",
    "        yk = tensor.reshape(yk, (2, -1))\n",
    "        if verbose:\n",
    "            print('{}finally reshape yk to ravel: yk.shape = {}'.format(rd, yk.shape))\n",
    "        return yk"
   ]
  },
  {
   "cell_type": "code",
   "execution_count": 4,
   "metadata": {},
   "outputs": [
    {
     "name": "stdout",
     "output_type": "stream",
     "text": [
      "[[ 0.  0.  0.]\n",
      " [ 0.  0.  0.]]\n",
      "Alloc.0\n"
     ]
    }
   ],
   "source": [
    "shape = (2, 3)\n",
    "print(dual_function(shape))\n",
    "print(dual_function(shape, mode=\"sym\"))"
   ]
  },
  {
   "cell_type": "code",
   "execution_count": 24,
   "metadata": {},
   "outputs": [],
   "source": [
    "s = \"xxx\""
   ]
  },
  {
   "cell_type": "code",
   "execution_count": 25,
   "metadata": {},
   "outputs": [
    {
     "data": {
      "text/plain": [
       "True"
      ]
     },
     "execution_count": 25,
     "output_type": "execute_result",
     "metadata": {}
    }
   ],
   "source": [
    "s.startswith(\"x\")"
   ]
  },
  {
   "cell_type": "code",
   "execution_count": null,
   "metadata": {},
   "outputs": [],
   "source": [
    ""
   ]
  }
 ],
 "metadata": {
  "kernelspec": {
   "display_name": "Python 3",
   "language": "python",
   "name": "python3"
  },
  "language_info": {
   "codemirror_mode": {
    "name": "ipython",
    "version": 3.0
   },
   "file_extension": ".py",
   "mimetype": "text/x-python",
   "name": "python",
   "nbconvert_exporter": "python",
   "pygments_lexer": "ipython3",
   "version": "3.5.2"
  }
 },
 "nbformat": 4,
 "nbformat_minor": 0
}